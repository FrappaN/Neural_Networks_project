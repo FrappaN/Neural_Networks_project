{
 "cells": [
  {
   "cell_type": "markdown",
   "metadata": {},
   "source": [
    "# Evaluating the Robustness of Interpretability Methods through Explanation Invariance and Equivariance'"
   ]
  },
  {
   "cell_type": "markdown",
   "metadata": {},
   "source": [
    "The paper which I am re-implementing introduce an evaluation metric to test the robustness of the explanation. \n",
    "\n",
    "The quality of robustness is tipically associated to the idea that, when performing a transformation to the input, the explanation should not change significantly (see e.g. the \"continuity\" evaluation in Nauta et al. 2023). In this work, they focus on transformations based on symmetries which are respected by the models. The assumption is that, if the output of a model is invariant under a certain symmetry, the corresponding explanation should also be invariant or equivariant, depending on the type of explanation.\n",
    "\n",
    "The example I focus in this re-implementation is that of Graph Neural Networks. Many of these models, in the case of graph-level tasks, are notoriously invariant under node permutation, i.e. the output remains the same. A corresponding attribution on the node features should therefore be equivariant under a node permutation: the important features of a specific node should remain the same. In other words, given a fixed node permutation $P$ and a graph $G$, the explanation of a permuted graph $e(P(G))$, and the permuted explanation of the original graph $P'(e(G))$ should be the same (where $P$ and $P'$ might be differently defined depending on the domain of the explanation, but corresponding to the same permuation).\n",
    "\n",
    "When the attribution does not respect the original symmetry, the authors also propose a systematic approach to make an attribution more robust, by aggregrating all the explanations produced when performing all possible transformations in a given symmetry group on the data. They prove that the attribution produced in this way should always be equivariant. However, as in the case of node permutations, the number of possible transformations can very large, even if finite, and the equivariant explanation can only be approximated by a Monte Carlo estimation.\n",
    "\n",
    "In this example, I test the equivariance requirement on 4 attribution explainers: GNNExplainer, Integrated Gradients, Deconvolution and GradientSHAP. I reproduce the original model and test of the paper and the main result of their experiment with a GNN trained on the Mutagenicity dataset. Moreover, since GradientSHAP shows to be not equivariant, I also test the proposed method to enforce equivariant explanations."
   ]
  },
  {
   "cell_type": "markdown",
   "metadata": {},
   "source": [
    "# Code"
   ]
  },
  {
   "cell_type": "markdown",
   "metadata": {},
   "source": [
    "## First import"
   ]
  },
  {
   "cell_type": "code",
   "execution_count": 1,
   "metadata": {},
   "outputs": [
    {
     "name": "stderr",
     "output_type": "stream",
     "text": [
      "/Users/francescopaolonerini/anaconda3/envs/pyg/lib/python3.11/site-packages/tqdm/auto.py:21: TqdmWarning: IProgress not found. Please update jupyter and ipywidgets. See https://ipywidgets.readthedocs.io/en/stable/user_install.html\n",
      "  from .autonotebook import tqdm as notebook_tqdm\n"
     ]
    }
   ],
   "source": [
    "# import of libraries and utilities\n",
    "\n",
    "import torch\n",
    "import torch_geometric as tg\n",
    "from torch_geometric import seed_everything\n",
    "import numpy as np\n",
    "import matplotlib.pyplot as plt\n",
    "import seaborn as sns\n",
    "import pandas as pd\n",
    "\n",
    "import sys\n",
    "sys.path.append('../src')\n",
    "\n",
    "# import of my code\n",
    "from dataloader import load_mutagenicity\n",
    "from model import MUTAG_GNN\n",
    "from explainers import *\n",
    "from train import train, accuracy\n",
    "from utils import equivariance_robustness\n",
    "\n",
    "\n"
   ]
  },
  {
   "cell_type": "markdown",
   "metadata": {},
   "source": [
    "## Loading of data, model and training"
   ]
  },
  {
   "cell_type": "code",
   "execution_count": 2,
   "metadata": {},
   "outputs": [],
   "source": [
    "# data loading of mutagenicity dataset\n",
    "\n",
    "device = torch.device('cuda' if torch.cuda.is_available() else 'cpu')\n",
    "\n",
    "trainloader, testloader = load_mutagenicity(device=device, seed = 3003)\n"
   ]
  },
  {
   "cell_type": "code",
   "execution_count": 3,
   "metadata": {},
   "outputs": [
    {
     "name": "stdout",
     "output_type": "stream",
     "text": [
      "Epoch 0 - Training loss: 1.337838888168335; Test loss: 0.8272989392280579; Test accuracy: 0.5607833771196561\n",
      "Epoch 1 - Training loss: 0.6814165115356445; Test loss: 0.6713846921920776; Test accuracy: 0.5741581084308575\n",
      "Epoch 2 - Training loss: 0.6369482278823853; Test loss: 0.6497127413749695; Test accuracy: 0.619775495581562\n",
      "Epoch 3 - Training loss: 0.5818501710891724; Test loss: 0.6309210658073425; Test accuracy: 0.6345832338189634\n",
      "Epoch 4 - Training loss: 0.5405450463294983; Test loss: 0.6355844736099243; Test accuracy: 0.6319560544542632\n",
      "Epoch 5 - Training loss: 0.5092921257019043; Test loss: 0.6490525007247925; Test accuracy: 0.6419871029376641\n",
      "Epoch 6 - Training loss: 0.5016511678695679; Test loss: 0.6736912727355957; Test accuracy: 0.6384045856221638\n",
      "Epoch 7 - Training loss: 0.4936051368713379; Test loss: 0.6723114252090454; Test accuracy: 0.6431812753761643\n",
      "Epoch 8 - Training loss: 0.47835737466812134; Test loss: 0.6605879664421082; Test accuracy: 0.6563171721996657\n",
      "Epoch 9 - Training loss: 0.46461933851242065; Test loss: 0.6633641123771667; Test accuracy: 0.6625268688798662\n",
      "Epoch 10 - Training loss: 0.45644110441207886; Test loss: 0.6665019392967224; Test accuracy: 0.6663482206830666\n",
      "Epoch 11 - Training loss: 0.4497404098510742; Test loss: 0.6783913373947144; Test accuracy: 0.6646763792691665\n",
      "Epoch 12 - Training loss: 0.44624805450439453; Test loss: 0.6908345222473145; Test accuracy: 0.6651540482445665\n",
      "Epoch 13 - Training loss: 0.44023197889328003; Test loss: 0.7066441774368286; Test accuracy: 0.6639598758060664\n",
      "Epoch 14 - Training loss: 0.43124741315841675; Test loss: 0.7062366604804993; Test accuracy: 0.6670647241461667\n",
      "Epoch 15 - Training loss: 0.4204562306404114; Test loss: 0.6856788396835327; Test accuracy: 0.6754239312156676\n",
      "Epoch 16 - Training loss: 0.40366801619529724; Test loss: 0.6740691661834717; Test accuracy: 0.6785287795557678\n",
      "Epoch 17 - Training loss: 0.391632616519928; Test loss: 0.688145101070404; Test accuracy: 0.6811559589204681\n",
      "Epoch 18 - Training loss: 0.38833141326904297; Test loss: 0.6860167384147644; Test accuracy: 0.6811559589204681\n",
      "Epoch 19 - Training loss: 0.3950485587120056; Test loss: 0.7234113216400146; Test accuracy: 0.6751850967279676\n",
      "Epoch 20 - Training loss: 0.40835627913475037; Test loss: 0.7193251252174377; Test accuracy: 0.6720802483878672\n",
      "Epoch 21 - Training loss: 0.4090438783168793; Test loss: 0.7934327125549316; Test accuracy: 0.6627657033675662\n",
      "Epoch 22 - Training loss: 0.38984084129333496; Test loss: 0.752240777015686; Test accuracy: 0.6637210413183664\n",
      "Epoch 23 - Training loss: 0.3793143630027771; Test loss: 0.7253602743148804; Test accuracy: 0.6864103176498686\n",
      "Final accuracy on test set: 0.69\n"
     ]
    }
   ],
   "source": [
    "# training of the model, using the same parameters as in the paper\n",
    "# the early stopping is tested on the test set since \"the model generalization is never used as an evaluation criterion.\"\n",
    "# (they literally wrote this in the paper)\n",
    "\n",
    "gnn = MUTAG_GNN()\n",
    "gnn.to(device)\n",
    "\n",
    "logs = train(gnn, trainloader, testloader, epochs=200, lr=1e-3, weight_decay=1e-5, patience=20)\n",
    "\n",
    "gnn.eval()\n",
    "\n",
    "print('Final accuracy on test set: {:.2f}'.format(accuracy(gnn, testloader)))"
   ]
  },
  {
   "cell_type": "markdown",
   "metadata": {},
   "source": [
    "## Testing explainers\n",
    "\n"
   ]
  },
  {
   "cell_type": "code",
   "execution_count": 4,
   "metadata": {},
   "outputs": [],
   "source": [
    "# we use four explainers: GNNExplainer, Integrated Gradients, GradientShap and Deconvolution\n",
    "# GNNExplainer and Deconvolution are not used in the paper, but we include them for comparison\n",
    "\n",
    "# NOTE: GNNExplainer is very slow, and it is not recommended to run it on CPU.\n",
    "\n",
    "\n",
    "explainers = [\n",
    "    gnnexp_scores(model=gnn, device=device),\n",
    "    captum_scores(model=gnn, device=device, explainer_name='IntegratedGradients'),\n",
    "    captum_scores(model=gnn, device=device, explainer_name='GradientShap', baseline_type='zeros'),\n",
    "    captum_scores(model=gnn, device=device, explainer_name='GradientShap', baseline_type='ones'),\n",
    "    captum_scores(model=gnn, device=device, explainer_name='Deconvolution'),\n",
    "]\n",
    "    "
   ]
  },
  {
   "cell_type": "code",
   "execution_count": 5,
   "metadata": {},
   "outputs": [
    {
     "name": "stdout",
     "output_type": "stream",
     "text": [
      "Testing: GNNExplainer\n"
     ]
    },
    {
     "name": "stderr",
     "output_type": "stream",
     "text": [
      "100%|██████████| 50/50 [2:53:53<00:00, 208.66s/it]  \n"
     ]
    },
    {
     "name": "stdout",
     "output_type": "stream",
     "text": [
      "Testing: IntegratedGradients\n"
     ]
    },
    {
     "name": "stderr",
     "output_type": "stream",
     "text": [
      "100%|██████████| 50/50 [40:33<00:00, 48.68s/it]\n"
     ]
    },
    {
     "name": "stdout",
     "output_type": "stream",
     "text": [
      "Testing: GradientShap\n"
     ]
    },
    {
     "name": "stderr",
     "output_type": "stream",
     "text": [
      "100%|██████████| 50/50 [01:01<00:00,  1.22s/it]\n"
     ]
    },
    {
     "name": "stdout",
     "output_type": "stream",
     "text": [
      "Testing: GradientShap\n"
     ]
    },
    {
     "name": "stderr",
     "output_type": "stream",
     "text": [
      "100%|██████████| 50/50 [01:02<00:00,  1.24s/it]\n"
     ]
    },
    {
     "name": "stdout",
     "output_type": "stream",
     "text": [
      "Testing: Deconvolution\n"
     ]
    },
    {
     "name": "stderr",
     "output_type": "stream",
     "text": [
      "  0%|          | 0/50 [00:00<?, ?it/s]/Users/francescopaolonerini/anaconda3/envs/pyg/lib/python3.11/site-packages/captum/_utils/gradient.py:57: UserWarning: Input Tensor 0 did not already require gradients, required_grads has been set automatically.\n",
      "  warnings.warn(\n",
      "/Users/francescopaolonerini/anaconda3/envs/pyg/lib/python3.11/site-packages/captum/attr/_core/guided_backprop_deconvnet.py:64: UserWarning: Setting backward hooks on ReLU activations.The hooks will be removed after the attribution is finished\n",
      "  warnings.warn(\n",
      "100%|██████████| 50/50 [00:52<00:00,  1.06s/it]\n"
     ]
    }
   ],
   "source": [
    "results = {}\n",
    "\n",
    "\n",
    "# we select a single batch of the test set with enogh nodes to test the equivariance robustness\n",
    "\n",
    "\n",
    "# for each explainer we compute the equivariance robustness\n",
    "# the equivariance robustness is computed with respect to the feature attribution scores \n",
    "# and averaged across the databatches in testloader\n",
    "\n",
    "\n",
    "for explainer in explainers:\n",
    "    explainer_name = explainer.explainer_name\n",
    "    print('Testing:', explainer_name)\n",
    "    if explainer_name == 'GradientShap':\n",
    "        explainer_name = f'GradientSHAP_{explainer.baseline_type}'\n",
    "    results[explainer_name] = equivariance_robustness(testloader, explainer)\n"
   ]
  },
  {
   "cell_type": "code",
   "execution_count": 6,
   "metadata": {},
   "outputs": [
    {
     "data": {
      "image/png": "[encoded data removed]",
      "text/plain": [
       "<Figure size 1000x500 with 1 Axes>"
      ]
     },
     "metadata": {},
     "output_type": "display_data"
    }
   ],
   "source": [
    "# lastly we plot the results using a boxplot\n",
    "\n",
    "\n",
    "results = pd.DataFrame(results)\n",
    "\n",
    "fig, ax = plt.subplots(figsize=(10, 5))\n",
    "\n",
    "sns.boxplot(data=results, ax=ax)\n",
    "\n",
    "ax.set_ylabel('Explanation Equivariance')\n",
    "\n",
    "fig.savefig('mutag_equivariance.png')"
   ]
  },
  {
   "cell_type": "markdown",
   "metadata": {},
   "source": [
    "## Enforcing equivariant explanations"
   ]
  },
  {
   "cell_type": "code",
   "execution_count": 7,
   "metadata": {},
   "outputs": [
    {
     "name": "stderr",
     "output_type": "stream",
     "text": [
      "100%|██████████| 50/50 [53:03<00:00, 63.67s/it]"
     ]
    },
    {
     "name": "stdout",
     "output_type": "stream",
     "text": [
      "Mean Equivariance Robustness of GradientSHAP after correction: 0.9924633361956545\n"
     ]
    },
    {
     "name": "stderr",
     "output_type": "stream",
     "text": [
      "\n"
     ]
    }
   ],
   "source": [
    "# first we define our explainer; it must have an explain method which takes an object torch_geometric.data.Data as input\n",
    "\n",
    "gradientSHAP = captum_scores(model=gnn, device=device, explainer_name='GradientShap', baseline_type='zeros')\n",
    "\n",
    "# we wrap the explainer in the equivariant_explainer class, which will enforce the equivariance property\n",
    "# by averaging the explanations scores after permuting n_perms times the input data\n",
    "\n",
    "equivariant_gradientSHAP = equivariant_explainer(model=gnn, original_explainer=gradientSHAP, n_perms=50)\n",
    "\n",
    "robustness_scores  = equivariance_robustness(testloader, equivariant_gradientSHAP)\n",
    "\n",
    "print('Mean Equivariance Robustness of GradientSHAP after correction:', robustness_scores.mean())\n",
    "\n"
   ]
  },
  {
   "cell_type": "code",
   "execution_count": 8,
   "metadata": {},
   "outputs": [
    {
     "data": {
      "image/png": "[encoded data removed]",
      "text/plain": [
       "<Figure size 500x500 with 1 Axes>"
      ]
     },
     "metadata": {},
     "output_type": "display_data"
    }
   ],
   "source": [
    "results_compare = {\n",
    "    'GradientSHAP': results['GradientSHAP_zeros'],\n",
    "    'equivariant_GradientSHAP': robustness_scores\n",
    "}\n",
    "\n",
    "results_compare = pd.DataFrame(results_compare)\n",
    "\n",
    "fig, ax = plt.subplots(figsize=(5, 5))\n",
    "\n",
    "sns.boxplot(data=results_compare, ax=ax)\n",
    "\n",
    "ax.set_ylabel('Explanation Equivariance')\n",
    "\n",
    "fig.savefig('compare_gradientSHAP.png')"
   ]
  },
  {
   "cell_type": "markdown",
   "metadata": {},
   "source": [
    "# Results summary"
   ]
  },
  {
   "cell_type": "markdown",
   "metadata": {},
   "source": [
    "The results are in line with what was reported on the paper. GradientSHAP is the only attribution explainer which produce explanations which are not equivariant with respect to a node permutation with both a baseline tensor of zeros (as in the original paper) and a baseline tensor of ones.\n",
    "\n",
    "The two explainers which I introduced in the benchmark, GNNExplainer and Deconvolution, prove to be exactly robust with respect to the equivariance metric. While all the other explainers are based on gradients, GNNExplainer is a perturbation explainer which shows that also this category can produce robust explanations.\n",
    "\n",
    "Regarding GradientSHAP, it's interesting that changing the baseline improve the results: it could be that choosing the right baseline may allow to obtain even more robust explanations. However, by following the paper guidelines and enforcing the equivariance of the explainers, we can always produce equivariant explanations even from GradientSHAP."
   ]
  }
 ],
 "metadata": {
  "kernelspec": {
   "display_name": "pyg",
   "language": "python",
   "name": "python3"
  },
  "language_info": {
   "codemirror_mode": {
    "name": "ipython",
    "version": 3
   },
   "file_extension": ".py",
   "mimetype": "text/x-python",
   "name": "python",
   "nbconvert_exporter": "python",
   "pygments_lexer": "ipython3",
   "version": "3.11.5"
  }
 },
 "nbformat": 4,
 "nbformat_minor": 2
}
